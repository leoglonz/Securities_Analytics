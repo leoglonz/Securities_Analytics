{
 "cells": [
  {
   "cell_type": "markdown",
   "id": "64b6cb58",
   "metadata": {},
   "source": [
    "# Trial Analysis\n",
    "\n",
    "`-- Leo Lonzarich, 6 January 2021 // [Updated 6-1-21] --`\n",
    "\n",
    "Trial code used to demonstrate effectiveness of analytic package using TSlA as proxy.\n",
    "\n",
    "### Table of Contents\n",
    "- [Importing Data](#import)"
   ]
  },
  {
   "cell_type": "markdown",
   "id": "de195dda",
   "metadata": {},
   "source": [
    "## Importing Stock Data   <a class=\"anchor\" id=\"import\"></a>"
   ]
  },
  {
   "cell_type": "code",
   "execution_count": 2,
   "id": "3d588327",
   "metadata": {},
   "outputs": [],
   "source": [
    "import yfinance as yf # data framing and importing package\n",
    "import pandas as pd\n",
    "import matplotlib.pyplot as plt"
   ]
  },
  {
   "cell_type": "code",
   "execution_count": 3,
   "id": "9da24232",
   "metadata": {},
   "outputs": [
    {
     "name": "stdout",
     "output_type": "stream",
     "text": [
      "[*********************100%***********************]  1 of 1 completed\n"
     ]
    },
    {
     "data": {
      "text/html": [
       "<div>\n",
       "<style scoped>\n",
       "    .dataframe tbody tr th:only-of-type {\n",
       "        vertical-align: middle;\n",
       "    }\n",
       "\n",
       "    .dataframe tbody tr th {\n",
       "        vertical-align: top;\n",
       "    }\n",
       "\n",
       "    .dataframe thead th {\n",
       "        text-align: right;\n",
       "    }\n",
       "</style>\n",
       "<table border=\"1\" class=\"dataframe\">\n",
       "  <thead>\n",
       "    <tr style=\"text-align: right;\">\n",
       "      <th></th>\n",
       "      <th>Open</th>\n",
       "      <th>High</th>\n",
       "      <th>Low</th>\n",
       "      <th>Close</th>\n",
       "      <th>Adj Close</th>\n",
       "      <th>Volume</th>\n",
       "    </tr>\n",
       "    <tr>\n",
       "      <th>Date</th>\n",
       "      <th></th>\n",
       "      <th></th>\n",
       "      <th></th>\n",
       "      <th></th>\n",
       "      <th></th>\n",
       "      <th></th>\n",
       "    </tr>\n",
       "  </thead>\n",
       "  <tbody>\n",
       "    <tr>\n",
       "      <th>2018-11-01</th>\n",
       "      <td>67.652000</td>\n",
       "      <td>69.568001</td>\n",
       "      <td>66.945999</td>\n",
       "      <td>68.856003</td>\n",
       "      <td>68.856003</td>\n",
       "      <td>40000500</td>\n",
       "    </tr>\n",
       "    <tr>\n",
       "      <th>2018-11-02</th>\n",
       "      <td>68.748001</td>\n",
       "      <td>69.839996</td>\n",
       "      <td>68.181999</td>\n",
       "      <td>69.281998</td>\n",
       "      <td>69.281998</td>\n",
       "      <td>39040000</td>\n",
       "    </tr>\n",
       "    <tr>\n",
       "      <th>2018-11-05</th>\n",
       "      <td>68.099998</td>\n",
       "      <td>68.792000</td>\n",
       "      <td>66.028000</td>\n",
       "      <td>68.279999</td>\n",
       "      <td>68.279999</td>\n",
       "      <td>39155000</td>\n",
       "    </tr>\n",
       "    <tr>\n",
       "      <th>2018-11-06</th>\n",
       "      <td>67.814003</td>\n",
       "      <td>69.760002</td>\n",
       "      <td>67.218002</td>\n",
       "      <td>68.211998</td>\n",
       "      <td>68.211998</td>\n",
       "      <td>33814500</td>\n",
       "    </tr>\n",
       "    <tr>\n",
       "      <th>2018-11-07</th>\n",
       "      <td>68.667999</td>\n",
       "      <td>70.236000</td>\n",
       "      <td>68.160004</td>\n",
       "      <td>69.632004</td>\n",
       "      <td>69.632004</td>\n",
       "      <td>36872500</td>\n",
       "    </tr>\n",
       "    <tr>\n",
       "      <th>...</th>\n",
       "      <td>...</td>\n",
       "      <td>...</td>\n",
       "      <td>...</td>\n",
       "      <td>...</td>\n",
       "      <td>...</td>\n",
       "      <td>...</td>\n",
       "    </tr>\n",
       "    <tr>\n",
       "      <th>2021-12-15</th>\n",
       "      <td>953.210022</td>\n",
       "      <td>978.750000</td>\n",
       "      <td>928.250000</td>\n",
       "      <td>975.989990</td>\n",
       "      <td>975.989990</td>\n",
       "      <td>25056400</td>\n",
       "    </tr>\n",
       "    <tr>\n",
       "      <th>2021-12-16</th>\n",
       "      <td>994.500000</td>\n",
       "      <td>994.979980</td>\n",
       "      <td>921.849976</td>\n",
       "      <td>926.919983</td>\n",
       "      <td>926.919983</td>\n",
       "      <td>27590500</td>\n",
       "    </tr>\n",
       "    <tr>\n",
       "      <th>2021-12-17</th>\n",
       "      <td>914.770020</td>\n",
       "      <td>960.659973</td>\n",
       "      <td>909.039978</td>\n",
       "      <td>932.570007</td>\n",
       "      <td>932.570007</td>\n",
       "      <td>33479100</td>\n",
       "    </tr>\n",
       "    <tr>\n",
       "      <th>2021-12-20</th>\n",
       "      <td>910.700012</td>\n",
       "      <td>921.690002</td>\n",
       "      <td>893.390015</td>\n",
       "      <td>899.940002</td>\n",
       "      <td>899.940002</td>\n",
       "      <td>18826700</td>\n",
       "    </tr>\n",
       "    <tr>\n",
       "      <th>2021-12-21</th>\n",
       "      <td>916.869995</td>\n",
       "      <td>939.500000</td>\n",
       "      <td>886.119995</td>\n",
       "      <td>938.530029</td>\n",
       "      <td>938.530029</td>\n",
       "      <td>23839300</td>\n",
       "    </tr>\n",
       "  </tbody>\n",
       "</table>\n",
       "<p>790 rows × 6 columns</p>\n",
       "</div>"
      ],
      "text/plain": [
       "                  Open        High         Low       Close   Adj Close  \\\n",
       "Date                                                                     \n",
       "2018-11-01   67.652000   69.568001   66.945999   68.856003   68.856003   \n",
       "2018-11-02   68.748001   69.839996   68.181999   69.281998   69.281998   \n",
       "2018-11-05   68.099998   68.792000   66.028000   68.279999   68.279999   \n",
       "2018-11-06   67.814003   69.760002   67.218002   68.211998   68.211998   \n",
       "2018-11-07   68.667999   70.236000   68.160004   69.632004   69.632004   \n",
       "...                ...         ...         ...         ...         ...   \n",
       "2021-12-15  953.210022  978.750000  928.250000  975.989990  975.989990   \n",
       "2021-12-16  994.500000  994.979980  921.849976  926.919983  926.919983   \n",
       "2021-12-17  914.770020  960.659973  909.039978  932.570007  932.570007   \n",
       "2021-12-20  910.700012  921.690002  893.390015  899.940002  899.940002   \n",
       "2021-12-21  916.869995  939.500000  886.119995  938.530029  938.530029   \n",
       "\n",
       "              Volume  \n",
       "Date                  \n",
       "2018-11-01  40000500  \n",
       "2018-11-02  39040000  \n",
       "2018-11-05  39155000  \n",
       "2018-11-06  33814500  \n",
       "2018-11-07  36872500  \n",
       "...              ...  \n",
       "2021-12-15  25056400  \n",
       "2021-12-16  27590500  \n",
       "2021-12-17  33479100  \n",
       "2021-12-20  18826700  \n",
       "2021-12-21  23839300  \n",
       "\n",
       "[790 rows x 6 columns]"
      ]
     },
     "execution_count": 3,
     "metadata": {},
     "output_type": "execute_result"
    }
   ],
   "source": [
    "# basic import.\n",
    "tsla = yf.download('TSLA', start='2018-11-01', end='2021-12-22', interval='1d')\n",
    "\n",
    "tsla"
   ]
  },
  {
   "cell_type": "code",
   "execution_count": 19,
   "id": "4d7fff88",
   "metadata": {},
   "outputs": [
    {
     "name": "stdout",
     "output_type": "stream",
     "text": [
      "[*********************100%***********************]  1 of 1 completed\n"
     ]
    },
    {
     "data": {
      "text/plain": [
       "<AxesSubplot:xlabel='Date'>"
      ]
     },
     "execution_count": 19,
     "metadata": {},
     "output_type": "execute_result"
    },
    {
     "data": {
      "image/png": "[encoded data removed]",
      "text/plain": [
       "<Figure size 1008x504 with 1 Axes>"
      ]
     },
     "metadata": {
      "needs_background": "light"
     },
     "output_type": "display_data"
    }
   ],
   "source": [
    "# pulling dividends for MSFT.\n",
    "msft = yf.download('MSFT', start='2018-11-01', end='2021-12-22', interval='1d')\n",
    "\n",
    "t = yf.Ticker('msft')\n",
    "t.dividends.plot(figsize=(14,7))"
   ]
  },
  {
   "cell_type": "markdown",
   "id": "cc5c85d6",
   "metadata": {},
   "source": [
    "## Moving Average (MA)\n",
    "\n",
    "---\n",
    "- Identifies the direction of a current price trend, ignoring short-term price spikes.\n",
    "\n",
    "- Used to identify significant support and resistance levels.\n",
    "\n",
    "- Stan Weinstein: Price must be above short term MA to buy a stock."
   ]
  },
  {
   "cell_type": "code",
   "execution_count": 5,
   "id": "06a9043c",
   "metadata": {},
   "outputs": [
    {
     "data": {
      "text/plain": [
       "Date\n",
       "2018-11-01            NaN\n",
       "2018-11-02            NaN\n",
       "2018-11-05            NaN\n",
       "2018-11-06            NaN\n",
       "2018-11-07            NaN\n",
       "                 ...     \n",
       "2021-12-15    1065.702502\n",
       "2021-12-16    1057.598001\n",
       "2021-12-17    1049.407501\n",
       "2021-12-20    1037.551498\n",
       "2021-12-21    1026.634500\n",
       "Name: Close, Length: 790, dtype: float64"
      ]
     },
     "execution_count": 5,
     "metadata": {},
     "output_type": "execute_result"
    }
   ],
   "source": [
    "tsla.Close.rolling(20).mean()"
   ]
  },
  {
   "cell_type": "code",
   "execution_count": 38,
   "id": "e6b59453",
   "metadata": {},
   "outputs": [
    {
     "data": {
      "text/plain": [
       "<AxesSubplot:xlabel='Date'>"
      ]
     },
     "execution_count": 38,
     "metadata": {},
     "output_type": "execute_result"
    },
    {
     "data": {
      "image/png": "[encoded data removed]",
      "text/plain": [
       "<Figure size 432x288 with 1 Axes>"
      ]
     },
     "metadata": {
      "needs_background": "light"
     },
     "output_type": "display_data"
    }
   ],
   "source": [
    "tsla.loc[:, 'ma20'] = tsla.Close.rolling(20).mean() #20-day MA.\n",
    "tsla.loc[:, 'ma200'] = tsla.Close.rolling(200).mean() #200-day MA.\n",
    "\n",
    "tsla.Close.plot() # actual closing.\n",
    "tsla.loc[:, 'ma20'].plot()\n",
    "tsla.loc[:,'ma200'].plot()"
   ]
  },
  {
   "cell_type": "markdown",
   "id": "b4cff5cb",
   "metadata": {},
   "source": [
    "## Relative Strength Index (RSI)\n",
    "\n",
    "---\n",
    "- Momentum indicator"
   ]
  }
 ],
 "metadata": {
  "kernelspec": {
   "display_name": "Python 3 (ipykernel)",
   "language": "python",
   "name": "python3"
  },
  "language_info": {
   "codemirror_mode": {
    "name": "ipython",
    "version": 3
   },
   "file_extension": ".py",
   "mimetype": "text/x-python",
   "name": "python",
   "nbconvert_exporter": "python",
   "pygments_lexer": "ipython3",
   "version": "3.9.7"
  }
 },
 "nbformat": 4,
 "nbformat_minor": 5
}
