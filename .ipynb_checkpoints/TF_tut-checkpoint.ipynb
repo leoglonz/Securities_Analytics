{
 "cells": [
  {
   "cell_type": "markdown",
   "id": "44d30ff8",
   "metadata": {},
   "source": [
    "# Importing Data"
   ]
  },
  {
   "cell_type": "code",
   "execution_count": 2,
   "id": "2c057bbd",
   "metadata": {},
   "outputs": [],
   "source": [
    "import pandas as pd\n",
    "from sklearn.model_selection import train_test_split"
   ]
  },
  {
   "cell_type": "code",
   "execution_count": 3,
   "id": "364dcab6",
   "metadata": {},
   "outputs": [],
   "source": [
    "df = pd.read_csv('Churn.csv')"
   ]
  },
  {
   "cell_type": "code",
   "execution_count": 4,
   "id": "5999d31d",
   "metadata": {},
   "outputs": [],
   "source": [
    "x = pd.get_dummies(df.drop(['Churn', 'Customer ID'], axis=1))\n",
    "y = df['Churn'].apply(lambda x: 1 if x=='Yes' else 0)"
   ]
  },
  {
   "cell_type": "code",
   "execution_count": 5,
   "id": "024b2bdb",
   "metadata": {},
   "outputs": [],
   "source": [
    "x_train, x_test, y_train, y_test = train_test_split(x, y, test_size=2)"
   ]
  },
  {
   "cell_type": "markdown",
   "id": "6739e115",
   "metadata": {},
   "source": [
    "# Import Dependencies"
   ]
  },
  {
   "cell_type": "code",
   "execution_count": 6,
   "id": "4b479ed2",
   "metadata": {},
   "outputs": [],
   "source": [
    "from tensorflow.keras.models import Sequential, load_model\n",
    "from tensorflow.keras.layers import Dense\n",
    "from sklearn.metrics import accuracy_score"
   ]
  },
  {
   "cell_type": "markdown",
   "id": "1f98e43a",
   "metadata": {},
   "source": [
    "# Build and Compile"
   ]
  },
  {
   "cell_type": "code",
   "execution_count": 8,
   "id": "11d80857",
   "metadata": {},
   "outputs": [],
   "source": [
    "model = Sequential()\n",
    "# can add more layers, but they take longer to train.\n",
    "model.add(Dense(units=32, activation='relu', input_dim=len(x_train.columns)))\n",
    "model.add(Dense(units=64, activation='relu'))\n",
    "model.add(Dense(units=1, activation='sigmoid'))"
   ]
  },
  {
   "cell_type": "code",
   "execution_count": null,
   "id": "75d120d4",
   "metadata": {},
   "outputs": [],
   "source": [
    "model.compile"
   ]
  },
  {
   "cell_type": "markdown",
   "id": "2695efff",
   "metadata": {},
   "source": [
    "# Fit, Predict, Evaluate"
   ]
  },
  {
   "cell_type": "code",
   "execution_count": null,
   "id": "304012ed",
   "metadata": {},
   "outputs": [],
   "source": []
  }
 ],
 "metadata": {
  "kernelspec": {
   "display_name": "Python 3 (ipykernel)",
   "language": "python",
   "name": "python3"
  },
  "language_info": {
   "codemirror_mode": {
    "name": "ipython",
    "version": 3
   },
   "file_extension": ".py",
   "mimetype": "text/x-python",
   "name": "python",
   "nbconvert_exporter": "python",
   "pygments_lexer": "ipython3",
   "version": "3.9.7"
  }
 },
 "nbformat": 4,
 "nbformat_minor": 5
}
