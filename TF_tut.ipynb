{
 "cells": [
  {
   "cell_type": "markdown",
   "id": "7d7e02ec",
   "metadata": {},
   "source": [
    "# Importing Data\n",
    "\n",
    "[Credits @Nicholas Renotte]"
   ]
  },
  {
   "cell_type": "code",
   "execution_count": 2,
   "id": "c7d7e1cf",
   "metadata": {},
   "outputs": [],
   "source": [
    "import pandas as pd\n",
    "from sklearn.model_selection import train_test_split"
   ]
  },
  {
   "cell_type": "code",
   "execution_count": 3,
   "id": "9aa61d81",
   "metadata": {},
   "outputs": [],
   "source": [
    "df = pd.read_csv('Churn.csv')"
   ]
  },
  {
   "cell_type": "code",
   "execution_count": 4,
   "id": "1d416c70",
   "metadata": {},
   "outputs": [],
   "source": [
    "x = pd.get_dummies(df.drop(['Churn', 'Customer ID'], axis=1))\n",
    "y = df['Churn'].apply(lambda x: 1 if x=='Yes' else 0)"
   ]
  },
  {
   "cell_type": "code",
   "execution_count": 33,
   "id": "09209451",
   "metadata": {},
   "outputs": [],
   "source": [
    "x_train, x_test, y_train, y_test = train_test_split(x, y, test_size=.2)"
   ]
  },
  {
   "cell_type": "markdown",
   "id": "58df9d05",
   "metadata": {},
   "source": [
    "# Import Dependencies"
   ]
  },
  {
   "cell_type": "code",
   "execution_count": 6,
   "id": "7cf8cff4",
   "metadata": {},
   "outputs": [],
   "source": [
    "from tensorflow.keras.models import Sequential, load_model\n",
    "from tensorflow.keras.layers import Dense\n",
    "from sklearn.metrics import accuracy_score"
   ]
  },
  {
   "cell_type": "markdown",
   "id": "2264d496",
   "metadata": {},
   "source": [
    "# Build and Compile"
   ]
  },
  {
   "cell_type": "code",
   "execution_count": 34,
   "id": "d98ab338",
   "metadata": {},
   "outputs": [],
   "source": [
    "model = Sequential()\n",
    "# can add more layers, but they take longer to train.\n",
    "model.add(Dense(units=32, activation='relu', input_dim=len(x_train.columns)))\n",
    "model.add(Dense(units=64, activation='relu'))\n",
    "model.add(Dense(units=1, activation='sigmoid'))"
   ]
  },
  {
   "cell_type": "code",
   "execution_count": 35,
   "id": "077e644e",
   "metadata": {},
   "outputs": [],
   "source": [
    "model.compile(loss='binary_crossentropy', optimizer='sgd', metrics='accuracy')"
   ]
  },
  {
   "cell_type": "markdown",
   "id": "7eddbf4d",
   "metadata": {},
   "source": [
    "# Fit, Predict, Evaluate"
   ]
  },
  {
   "cell_type": "code",
   "execution_count": 36,
   "id": "53144fdd",
   "metadata": {},
   "outputs": [
    {
     "name": "stdout",
     "output_type": "stream",
     "text": [
      "Epoch 1/200\n",
      "  1/177 [..............................] - ETA: 1:00 - loss: 0.6811 - accuracy: 0.6875"
     ]
    },
    {
     "name": "stderr",
     "output_type": "stream",
     "text": [
      "2022-01-12 19:44:08.482076: I tensorflow/core/grappler/optimizers/custom_graph_optimizer_registry.cc:112] Plugin optimizer for device_type GPU is enabled.\n"
     ]
    },
    {
     "name": "stdout",
     "output_type": "stream",
     "text": [
      "177/177 [==============================] - 2s 7ms/step - loss: 0.4976 - accuracy: 0.7501\n",
      "Epoch 2/200\n",
      "177/177 [==============================] - 1s 6ms/step - loss: 0.4829 - accuracy: 0.7791\n",
      "Epoch 3/200\n",
      "177/177 [==============================] - 1s 6ms/step - loss: 0.4750 - accuracy: 0.7780\n",
      "Epoch 4/200\n",
      "177/177 [==============================] - 1s 6ms/step - loss: 0.4725 - accuracy: 0.7789\n",
      "Epoch 5/200\n",
      "177/177 [==============================] - 1s 6ms/step - loss: 0.4678 - accuracy: 0.7853\n",
      "Epoch 6/200\n",
      "177/177 [==============================] - 1s 6ms/step - loss: 0.4643 - accuracy: 0.7854\n",
      "Epoch 7/200\n",
      "177/177 [==============================] - 1s 6ms/step - loss: 0.4631 - accuracy: 0.7846\n",
      "Epoch 8/200\n",
      "177/177 [==============================] - 1s 6ms/step - loss: 0.4635 - accuracy: 0.7826\n",
      "Epoch 9/200\n",
      "177/177 [==============================] - 1s 6ms/step - loss: 0.4602 - accuracy: 0.7819\n",
      "Epoch 10/200\n",
      "177/177 [==============================] - 1s 6ms/step - loss: 0.4601 - accuracy: 0.7810\n",
      "Epoch 11/200\n",
      "177/177 [==============================] - 1s 6ms/step - loss: 0.4559 - accuracy: 0.7881\n",
      "Epoch 12/200\n",
      "177/177 [==============================] - 1s 6ms/step - loss: 0.4553 - accuracy: 0.7895\n",
      "Epoch 13/200\n",
      "177/177 [==============================] - 1s 6ms/step - loss: 0.4543 - accuracy: 0.7862\n",
      "Epoch 14/200\n",
      "177/177 [==============================] - 1s 6ms/step - loss: 0.4523 - accuracy: 0.7895\n",
      "Epoch 15/200\n",
      "177/177 [==============================] - 1s 6ms/step - loss: 0.4725 - accuracy: 0.7714\n",
      "Epoch 16/200\n",
      "177/177 [==============================] - 1s 6ms/step - loss: 0.4573 - accuracy: 0.7851\n",
      "Epoch 17/200\n",
      "177/177 [==============================] - 1s 6ms/step - loss: 0.4586 - accuracy: 0.7823\n",
      "Epoch 18/200\n",
      "177/177 [==============================] - 1s 6ms/step - loss: 0.4514 - accuracy: 0.7876\n",
      "Epoch 19/200\n",
      "177/177 [==============================] - 1s 6ms/step - loss: 0.4551 - accuracy: 0.7862\n",
      "Epoch 20/200\n",
      "177/177 [==============================] - 1s 6ms/step - loss: 0.4505 - accuracy: 0.7876\n",
      "Epoch 21/200\n",
      "177/177 [==============================] - 1s 6ms/step - loss: 0.4499 - accuracy: 0.7886\n",
      "Epoch 22/200\n",
      "177/177 [==============================] - 1s 6ms/step - loss: 0.4505 - accuracy: 0.7874\n",
      "Epoch 23/200\n",
      "177/177 [==============================] - 1s 6ms/step - loss: 0.4480 - accuracy: 0.7881\n",
      "Epoch 24/200\n",
      "177/177 [==============================] - 1s 6ms/step - loss: 0.4498 - accuracy: 0.7856\n",
      "Epoch 25/200\n",
      "177/177 [==============================] - 1s 6ms/step - loss: 0.4504 - accuracy: 0.7870\n",
      "Epoch 26/200\n",
      "177/177 [==============================] - 1s 6ms/step - loss: 0.4460 - accuracy: 0.7888\n",
      "Epoch 27/200\n",
      "177/177 [==============================] - 1s 6ms/step - loss: 0.4459 - accuracy: 0.7922\n",
      "Epoch 28/200\n",
      "177/177 [==============================] - 1s 6ms/step - loss: 0.4549 - accuracy: 0.7892\n",
      "Epoch 29/200\n",
      "177/177 [==============================] - 1s 6ms/step - loss: 0.4480 - accuracy: 0.7865\n",
      "Epoch 30/200\n",
      "177/177 [==============================] - 1s 6ms/step - loss: 0.4463 - accuracy: 0.7865\n",
      "Epoch 31/200\n",
      "177/177 [==============================] - 1s 6ms/step - loss: 0.4442 - accuracy: 0.7922\n",
      "Epoch 32/200\n",
      "177/177 [==============================] - 1s 6ms/step - loss: 0.4487 - accuracy: 0.7881\n",
      "Epoch 33/200\n",
      "177/177 [==============================] - 1s 6ms/step - loss: 0.4468 - accuracy: 0.7860\n",
      "Epoch 34/200\n",
      "177/177 [==============================] - 1s 6ms/step - loss: 0.4450 - accuracy: 0.7915\n",
      "Epoch 35/200\n",
      "177/177 [==============================] - 1s 6ms/step - loss: 0.4442 - accuracy: 0.7938\n",
      "Epoch 36/200\n",
      "177/177 [==============================] - 1s 6ms/step - loss: 0.4453 - accuracy: 0.7874\n",
      "Epoch 37/200\n",
      "177/177 [==============================] - 1s 6ms/step - loss: 0.4441 - accuracy: 0.7934\n",
      "Epoch 38/200\n",
      "177/177 [==============================] - 1s 6ms/step - loss: 0.4450 - accuracy: 0.7879\n",
      "Epoch 39/200\n",
      "177/177 [==============================] - 1s 6ms/step - loss: 0.4422 - accuracy: 0.7940\n",
      "Epoch 40/200\n",
      "177/177 [==============================] - 1s 6ms/step - loss: 0.4438 - accuracy: 0.7885\n",
      "Epoch 41/200\n",
      "177/177 [==============================] - 1s 6ms/step - loss: 0.4423 - accuracy: 0.7913\n",
      "Epoch 42/200\n",
      "177/177 [==============================] - 1s 6ms/step - loss: 0.4419 - accuracy: 0.7902\n",
      "Epoch 43/200\n",
      "177/177 [==============================] - 1s 6ms/step - loss: 0.4426 - accuracy: 0.7920\n",
      "Epoch 44/200\n",
      "177/177 [==============================] - 1s 6ms/step - loss: 0.4417 - accuracy: 0.7917\n",
      "Epoch 45/200\n",
      "177/177 [==============================] - 1s 6ms/step - loss: 0.4409 - accuracy: 0.7901\n",
      "Epoch 46/200\n",
      "177/177 [==============================] - 1s 6ms/step - loss: 0.4368 - accuracy: 0.7920\n",
      "Epoch 47/200\n",
      "177/177 [==============================] - 1s 6ms/step - loss: 0.4404 - accuracy: 0.7901\n",
      "Epoch 48/200\n",
      "177/177 [==============================] - 1s 6ms/step - loss: 0.4444 - accuracy: 0.7943\n",
      "Epoch 49/200\n",
      "177/177 [==============================] - 1s 6ms/step - loss: 0.4399 - accuracy: 0.7949\n",
      "Epoch 50/200\n",
      "177/177 [==============================] - 1s 6ms/step - loss: 0.4401 - accuracy: 0.7901\n",
      "Epoch 51/200\n",
      "177/177 [==============================] - 1s 6ms/step - loss: 0.4396 - accuracy: 0.7915\n",
      "Epoch 52/200\n",
      "177/177 [==============================] - 1s 6ms/step - loss: 0.4377 - accuracy: 0.7963\n",
      "Epoch 53/200\n",
      "177/177 [==============================] - 1s 6ms/step - loss: 0.4394 - accuracy: 0.7934\n",
      "Epoch 54/200\n",
      "177/177 [==============================] - 1s 6ms/step - loss: 0.4390 - accuracy: 0.7929\n",
      "Epoch 55/200\n",
      "177/177 [==============================] - 1s 6ms/step - loss: 0.4372 - accuracy: 0.7924\n",
      "Epoch 56/200\n",
      "177/177 [==============================] - 1s 6ms/step - loss: 0.4382 - accuracy: 0.7924\n",
      "Epoch 57/200\n",
      "177/177 [==============================] - 1s 6ms/step - loss: 0.4349 - accuracy: 0.7940\n",
      "Epoch 58/200\n",
      "177/177 [==============================] - 1s 6ms/step - loss: 0.4355 - accuracy: 0.7950\n",
      "Epoch 59/200\n",
      "177/177 [==============================] - 1s 6ms/step - loss: 0.4359 - accuracy: 0.7945\n",
      "Epoch 60/200\n",
      "177/177 [==============================] - 1s 6ms/step - loss: 0.4344 - accuracy: 0.7929\n",
      "Epoch 61/200\n",
      "177/177 [==============================] - 1s 6ms/step - loss: 0.4374 - accuracy: 0.7917\n",
      "Epoch 62/200\n",
      "177/177 [==============================] - 1s 6ms/step - loss: 0.4388 - accuracy: 0.7940\n",
      "Epoch 63/200\n",
      "177/177 [==============================] - 1s 6ms/step - loss: 0.4415 - accuracy: 0.7961\n",
      "Epoch 64/200\n",
      "177/177 [==============================] - 1s 6ms/step - loss: 0.4355 - accuracy: 0.7947\n",
      "Epoch 65/200\n",
      "177/177 [==============================] - 1s 6ms/step - loss: 0.4340 - accuracy: 0.7961\n",
      "Epoch 66/200\n",
      "177/177 [==============================] - 1s 6ms/step - loss: 0.4358 - accuracy: 0.7961\n",
      "Epoch 67/200\n",
      "177/177 [==============================] - 1s 6ms/step - loss: 0.4325 - accuracy: 0.7986\n",
      "Epoch 68/200\n",
      "177/177 [==============================] - 1s 6ms/step - loss: 0.4344 - accuracy: 0.7950\n",
      "Epoch 69/200\n",
      "177/177 [==============================] - 1s 6ms/step - loss: 0.4344 - accuracy: 0.7941\n",
      "Epoch 70/200\n",
      "177/177 [==============================] - 1s 6ms/step - loss: 0.4328 - accuracy: 0.7972\n",
      "Epoch 71/200\n",
      "177/177 [==============================] - 1s 6ms/step - loss: 0.4324 - accuracy: 0.7957\n",
      "Epoch 72/200\n",
      "177/177 [==============================] - 1s 6ms/step - loss: 0.4340 - accuracy: 0.7954\n",
      "Epoch 73/200\n",
      "177/177 [==============================] - 1s 6ms/step - loss: 0.4345 - accuracy: 0.7906\n",
      "Epoch 74/200\n",
      "177/177 [==============================] - 1s 6ms/step - loss: 0.4290 - accuracy: 0.7970\n",
      "Epoch 75/200\n",
      "177/177 [==============================] - 1s 6ms/step - loss: 0.4325 - accuracy: 0.7989\n",
      "Epoch 76/200\n",
      "177/177 [==============================] - 1s 6ms/step - loss: 0.4318 - accuracy: 0.7936\n",
      "Epoch 77/200\n",
      "177/177 [==============================] - 1s 6ms/step - loss: 0.4302 - accuracy: 0.7973\n",
      "Epoch 78/200\n",
      "177/177 [==============================] - 1s 6ms/step - loss: 0.4329 - accuracy: 0.7920\n",
      "Epoch 79/200\n",
      "177/177 [==============================] - 1s 6ms/step - loss: 0.4310 - accuracy: 0.7947\n",
      "Epoch 80/200\n",
      "177/177 [==============================] - 1s 6ms/step - loss: 0.4320 - accuracy: 0.7991\n",
      "Epoch 81/200\n"
     ]
    },
    {
     "name": "stdout",
     "output_type": "stream",
     "text": [
      "177/177 [==============================] - 1s 6ms/step - loss: 0.4305 - accuracy: 0.7922\n",
      "Epoch 82/200\n",
      "177/177 [==============================] - 1s 6ms/step - loss: 0.4295 - accuracy: 0.7989\n",
      "Epoch 83/200\n",
      "177/177 [==============================] - 1s 6ms/step - loss: 0.4300 - accuracy: 0.7931\n",
      "Epoch 84/200\n",
      "177/177 [==============================] - 1s 6ms/step - loss: 0.4265 - accuracy: 0.7995\n",
      "Epoch 85/200\n",
      "177/177 [==============================] - 1s 7ms/step - loss: 0.4294 - accuracy: 0.7961\n",
      "Epoch 86/200\n",
      "177/177 [==============================] - 1s 6ms/step - loss: 0.4299 - accuracy: 0.7973\n",
      "Epoch 87/200\n",
      "177/177 [==============================] - 1s 7ms/step - loss: 0.4300 - accuracy: 0.8007\n",
      "Epoch 88/200\n",
      "177/177 [==============================] - 1s 6ms/step - loss: 0.4356 - accuracy: 0.7927\n",
      "Epoch 89/200\n",
      "177/177 [==============================] - 1s 6ms/step - loss: 0.4284 - accuracy: 0.7949\n",
      "Epoch 90/200\n",
      "177/177 [==============================] - 1s 6ms/step - loss: 0.4278 - accuracy: 0.7993\n",
      "Epoch 91/200\n",
      "177/177 [==============================] - 1s 6ms/step - loss: 0.4303 - accuracy: 0.8002\n",
      "Epoch 92/200\n",
      "177/177 [==============================] - 1s 6ms/step - loss: 0.4285 - accuracy: 0.7970\n",
      "Epoch 93/200\n",
      "177/177 [==============================] - 1s 6ms/step - loss: 0.4283 - accuracy: 0.7968\n",
      "Epoch 94/200\n",
      "177/177 [==============================] - 1s 6ms/step - loss: 0.4251 - accuracy: 0.8007\n",
      "Epoch 95/200\n",
      "177/177 [==============================] - 1s 6ms/step - loss: 0.4277 - accuracy: 0.7972\n",
      "Epoch 96/200\n",
      "177/177 [==============================] - 1s 6ms/step - loss: 0.4279 - accuracy: 0.8012\n",
      "Epoch 97/200\n",
      "177/177 [==============================] - 1s 6ms/step - loss: 0.4231 - accuracy: 0.8005\n",
      "Epoch 98/200\n",
      "177/177 [==============================] - 1s 6ms/step - loss: 0.4458 - accuracy: 0.7945\n",
      "Epoch 99/200\n",
      "177/177 [==============================] - 1s 6ms/step - loss: 0.4416 - accuracy: 0.7931\n",
      "Epoch 100/200\n",
      "177/177 [==============================] - 1s 6ms/step - loss: 0.4322 - accuracy: 0.7940\n",
      "Epoch 101/200\n",
      "177/177 [==============================] - 1s 6ms/step - loss: 0.4267 - accuracy: 0.7982\n",
      "Epoch 102/200\n",
      "177/177 [==============================] - 1s 6ms/step - loss: 0.4283 - accuracy: 0.8035\n",
      "Epoch 103/200\n",
      "177/177 [==============================] - 1s 6ms/step - loss: 0.4294 - accuracy: 0.7988\n",
      "Epoch 104/200\n",
      "177/177 [==============================] - 1s 6ms/step - loss: 0.4294 - accuracy: 0.7965\n",
      "Epoch 105/200\n",
      "177/177 [==============================] - 1s 6ms/step - loss: 0.4276 - accuracy: 0.7996\n",
      "Epoch 106/200\n",
      "177/177 [==============================] - 1s 6ms/step - loss: 0.4284 - accuracy: 0.8007\n",
      "Epoch 107/200\n",
      "177/177 [==============================] - 1s 6ms/step - loss: 0.4284 - accuracy: 0.7996\n",
      "Epoch 108/200\n",
      "177/177 [==============================] - 1s 6ms/step - loss: 0.4276 - accuracy: 0.7965\n",
      "Epoch 109/200\n",
      "177/177 [==============================] - 1s 6ms/step - loss: 0.4268 - accuracy: 0.7959\n",
      "Epoch 110/200\n",
      "177/177 [==============================] - 1s 6ms/step - loss: 0.4267 - accuracy: 0.7973\n",
      "Epoch 111/200\n",
      "177/177 [==============================] - 1s 6ms/step - loss: 0.4257 - accuracy: 0.7975\n",
      "Epoch 112/200\n",
      "177/177 [==============================] - 1s 6ms/step - loss: 0.4230 - accuracy: 0.8007\n",
      "Epoch 113/200\n",
      "177/177 [==============================] - 1s 6ms/step - loss: 0.4253 - accuracy: 0.8023\n",
      "Epoch 114/200\n",
      "177/177 [==============================] - 1s 7ms/step - loss: 0.4280 - accuracy: 0.7959\n",
      "Epoch 115/200\n",
      "177/177 [==============================] - 1s 6ms/step - loss: 0.4254 - accuracy: 0.7972\n",
      "Epoch 116/200\n",
      "177/177 [==============================] - 1s 6ms/step - loss: 0.4242 - accuracy: 0.7986\n",
      "Epoch 117/200\n",
      "177/177 [==============================] - 1s 6ms/step - loss: 0.4266 - accuracy: 0.7977\n",
      "Epoch 118/200\n",
      "177/177 [==============================] - 1s 6ms/step - loss: 0.4250 - accuracy: 0.7995\n",
      "Epoch 119/200\n",
      "177/177 [==============================] - 1s 6ms/step - loss: 0.4222 - accuracy: 0.7998\n",
      "Epoch 120/200\n",
      "177/177 [==============================] - 1s 6ms/step - loss: 0.4266 - accuracy: 0.7979\n",
      "Epoch 121/200\n",
      "177/177 [==============================] - 1s 6ms/step - loss: 0.4282 - accuracy: 0.7980\n",
      "Epoch 122/200\n",
      "177/177 [==============================] - 1s 6ms/step - loss: 0.4217 - accuracy: 0.8011\n",
      "Epoch 123/200\n",
      "177/177 [==============================] - 1s 6ms/step - loss: 0.4220 - accuracy: 0.8037\n",
      "Epoch 124/200\n",
      "177/177 [==============================] - 1s 6ms/step - loss: 0.4227 - accuracy: 0.8012\n",
      "Epoch 125/200\n",
      "177/177 [==============================] - 1s 6ms/step - loss: 0.4258 - accuracy: 0.7980\n",
      "Epoch 126/200\n",
      "177/177 [==============================] - 1s 6ms/step - loss: 0.4229 - accuracy: 0.8034\n",
      "Epoch 127/200\n",
      "177/177 [==============================] - 1s 6ms/step - loss: 0.4218 - accuracy: 0.7989\n",
      "Epoch 128/200\n",
      "177/177 [==============================] - 1s 6ms/step - loss: 0.4242 - accuracy: 0.8002\n",
      "Epoch 129/200\n",
      "177/177 [==============================] - 1s 6ms/step - loss: 0.4242 - accuracy: 0.8002\n",
      "Epoch 130/200\n",
      "177/177 [==============================] - 1s 7ms/step - loss: 0.4231 - accuracy: 0.8005\n",
      "Epoch 131/200\n",
      "177/177 [==============================] - 1s 6ms/step - loss: 0.4195 - accuracy: 0.7993\n",
      "Epoch 132/200\n",
      "177/177 [==============================] - 1s 6ms/step - loss: 0.4245 - accuracy: 0.8007\n",
      "Epoch 133/200\n",
      "177/177 [==============================] - 1s 7ms/step - loss: 0.4227 - accuracy: 0.7993\n",
      "Epoch 134/200\n",
      "177/177 [==============================] - 1s 7ms/step - loss: 0.4210 - accuracy: 0.8030\n",
      "Epoch 135/200\n",
      "177/177 [==============================] - 1s 6ms/step - loss: 0.4213 - accuracy: 0.7991\n",
      "Epoch 136/200\n",
      "177/177 [==============================] - 1s 6ms/step - loss: 0.4218 - accuracy: 0.8012\n",
      "Epoch 137/200\n",
      "177/177 [==============================] - 1s 6ms/step - loss: 0.4304 - accuracy: 0.7959\n",
      "Epoch 138/200\n",
      "177/177 [==============================] - 1s 6ms/step - loss: 0.4182 - accuracy: 0.8059\n",
      "Epoch 139/200\n",
      "177/177 [==============================] - 1s 6ms/step - loss: 0.4251 - accuracy: 0.8021\n",
      "Epoch 140/200\n",
      "177/177 [==============================] - 1s 6ms/step - loss: 0.4193 - accuracy: 0.8030\n",
      "Epoch 141/200\n",
      "177/177 [==============================] - 1s 6ms/step - loss: 0.4193 - accuracy: 0.8023\n",
      "Epoch 142/200\n",
      "177/177 [==============================] - 1s 6ms/step - loss: 0.4249 - accuracy: 0.8011\n",
      "Epoch 143/200\n",
      "177/177 [==============================] - 1s 6ms/step - loss: 0.4228 - accuracy: 0.7989\n",
      "Epoch 144/200\n",
      "177/177 [==============================] - 1s 6ms/step - loss: 0.4284 - accuracy: 0.7998\n",
      "Epoch 145/200\n",
      "177/177 [==============================] - 1s 6ms/step - loss: 0.4193 - accuracy: 0.8048\n",
      "Epoch 146/200\n",
      "177/177 [==============================] - 1s 6ms/step - loss: 0.4224 - accuracy: 0.7996\n",
      "Epoch 147/200\n",
      "177/177 [==============================] - 1s 6ms/step - loss: 0.4193 - accuracy: 0.8041\n",
      "Epoch 148/200\n",
      "177/177 [==============================] - 1s 6ms/step - loss: 0.4228 - accuracy: 0.8039\n",
      "Epoch 149/200\n",
      "177/177 [==============================] - 1s 6ms/step - loss: 0.4187 - accuracy: 0.7996\n",
      "Epoch 150/200\n",
      "177/177 [==============================] - 1s 6ms/step - loss: 0.4183 - accuracy: 0.8025\n",
      "Epoch 151/200\n",
      "177/177 [==============================] - 1s 6ms/step - loss: 0.4184 - accuracy: 0.8027\n",
      "Epoch 152/200\n",
      "177/177 [==============================] - 1s 6ms/step - loss: 0.4190 - accuracy: 0.8018\n",
      "Epoch 153/200\n",
      "177/177 [==============================] - 1s 6ms/step - loss: 0.4210 - accuracy: 0.8030\n",
      "Epoch 154/200\n",
      "177/177 [==============================] - 1s 6ms/step - loss: 0.4211 - accuracy: 0.8023\n",
      "Epoch 155/200\n",
      "177/177 [==============================] - 1s 6ms/step - loss: 0.4191 - accuracy: 0.8046\n",
      "Epoch 156/200\n",
      "177/177 [==============================] - 1s 6ms/step - loss: 0.4168 - accuracy: 0.8043\n",
      "Epoch 157/200\n",
      "177/177 [==============================] - 1s 6ms/step - loss: 0.4209 - accuracy: 0.8028\n",
      "Epoch 158/200\n",
      "177/177 [==============================] - 1s 6ms/step - loss: 0.4187 - accuracy: 0.7998\n",
      "Epoch 159/200\n",
      "177/177 [==============================] - 1s 6ms/step - loss: 0.4155 - accuracy: 0.8048\n",
      "Epoch 160/200\n"
     ]
    },
    {
     "name": "stdout",
     "output_type": "stream",
     "text": [
      "177/177 [==============================] - 1s 6ms/step - loss: 0.4186 - accuracy: 0.8025\n",
      "Epoch 161/200\n",
      "177/177 [==============================] - 1s 6ms/step - loss: 0.4187 - accuracy: 0.8016\n",
      "Epoch 162/200\n",
      "177/177 [==============================] - 1s 6ms/step - loss: 0.4209 - accuracy: 0.8030\n",
      "Epoch 163/200\n",
      "177/177 [==============================] - 1s 6ms/step - loss: 0.4194 - accuracy: 0.8023\n",
      "Epoch 164/200\n",
      "177/177 [==============================] - 1s 6ms/step - loss: 0.4199 - accuracy: 0.7965\n",
      "Epoch 165/200\n",
      "177/177 [==============================] - 1s 6ms/step - loss: 0.4185 - accuracy: 0.8007\n",
      "Epoch 166/200\n",
      "177/177 [==============================] - 1s 6ms/step - loss: 0.4210 - accuracy: 0.8041\n",
      "Epoch 167/200\n",
      "177/177 [==============================] - 1s 6ms/step - loss: 0.4198 - accuracy: 0.7980\n",
      "Epoch 168/200\n",
      "177/177 [==============================] - 1s 6ms/step - loss: 0.4167 - accuracy: 0.8027\n",
      "Epoch 169/200\n",
      "177/177 [==============================] - 1s 6ms/step - loss: 0.4216 - accuracy: 0.7998\n",
      "Epoch 170/200\n",
      "177/177 [==============================] - 1s 6ms/step - loss: 0.4159 - accuracy: 0.8027\n",
      "Epoch 171/200\n",
      "177/177 [==============================] - 1s 6ms/step - loss: 0.4149 - accuracy: 0.8028\n",
      "Epoch 172/200\n",
      "177/177 [==============================] - 1s 6ms/step - loss: 0.4186 - accuracy: 0.8025\n",
      "Epoch 173/200\n",
      "177/177 [==============================] - 1s 6ms/step - loss: 0.4160 - accuracy: 0.8032\n",
      "Epoch 174/200\n",
      "177/177 [==============================] - 1s 6ms/step - loss: 0.4164 - accuracy: 0.8059\n",
      "Epoch 175/200\n",
      "177/177 [==============================] - 1s 6ms/step - loss: 0.4180 - accuracy: 0.8044\n",
      "Epoch 176/200\n",
      "177/177 [==============================] - 1s 6ms/step - loss: 0.4174 - accuracy: 0.8028\n",
      "Epoch 177/200\n",
      "177/177 [==============================] - 1s 6ms/step - loss: 0.4185 - accuracy: 0.8011\n",
      "Epoch 178/200\n",
      "177/177 [==============================] - 1s 6ms/step - loss: 0.4184 - accuracy: 0.8028\n",
      "Epoch 179/200\n",
      "177/177 [==============================] - 1s 6ms/step - loss: 0.4184 - accuracy: 0.8066\n",
      "Epoch 180/200\n",
      "177/177 [==============================] - 1s 6ms/step - loss: 0.4159 - accuracy: 0.8048\n",
      "Epoch 181/200\n",
      "177/177 [==============================] - 1s 6ms/step - loss: 0.4162 - accuracy: 0.8067\n",
      "Epoch 182/200\n",
      "177/177 [==============================] - 1s 6ms/step - loss: 0.4147 - accuracy: 0.8014\n",
      "Epoch 183/200\n",
      "177/177 [==============================] - 1s 6ms/step - loss: 0.4173 - accuracy: 0.8018\n",
      "Epoch 184/200\n",
      "177/177 [==============================] - 1s 6ms/step - loss: 0.4165 - accuracy: 0.8034\n",
      "Epoch 185/200\n",
      "177/177 [==============================] - 1s 6ms/step - loss: 0.4167 - accuracy: 0.7995\n",
      "Epoch 186/200\n",
      "177/177 [==============================] - 1s 6ms/step - loss: 0.4166 - accuracy: 0.8035\n",
      "Epoch 187/200\n",
      "177/177 [==============================] - 1s 6ms/step - loss: 0.4152 - accuracy: 0.8048\n",
      "Epoch 188/200\n",
      "177/177 [==============================] - 1s 6ms/step - loss: 0.4180 - accuracy: 0.7986\n",
      "Epoch 189/200\n",
      "177/177 [==============================] - 1s 6ms/step - loss: 0.4164 - accuracy: 0.8005\n",
      "Epoch 190/200\n",
      "177/177 [==============================] - 1s 6ms/step - loss: 0.4159 - accuracy: 0.8014\n",
      "Epoch 191/200\n",
      "177/177 [==============================] - 1s 6ms/step - loss: 0.4191 - accuracy: 0.7973\n",
      "Epoch 192/200\n",
      "177/177 [==============================] - 1s 6ms/step - loss: 0.4169 - accuracy: 0.7998\n",
      "Epoch 193/200\n",
      "177/177 [==============================] - 1s 6ms/step - loss: 0.4154 - accuracy: 0.8027\n",
      "Epoch 194/200\n",
      "177/177 [==============================] - 1s 7ms/step - loss: 0.4198 - accuracy: 0.8016\n",
      "Epoch 195/200\n",
      "177/177 [==============================] - 1s 6ms/step - loss: 0.4147 - accuracy: 0.8069\n",
      "Epoch 196/200\n",
      "177/177 [==============================] - 1s 7ms/step - loss: 0.4136 - accuracy: 0.8059\n",
      "Epoch 197/200\n",
      "177/177 [==============================] - 1s 6ms/step - loss: 0.4142 - accuracy: 0.8048\n",
      "Epoch 198/200\n",
      "177/177 [==============================] - 1s 6ms/step - loss: 0.4153 - accuracy: 0.8043\n",
      "Epoch 199/200\n",
      "177/177 [==============================] - 1s 6ms/step - loss: 0.4135 - accuracy: 0.8041\n",
      "Epoch 200/200\n",
      "177/177 [==============================] - 1s 6ms/step - loss: 0.4157 - accuracy: 0.8073\n"
     ]
    },
    {
     "data": {
      "text/plain": [
       "<keras.callbacks.History at 0x2c851d7f0>"
      ]
     },
     "execution_count": 36,
     "metadata": {},
     "output_type": "execute_result"
    }
   ],
   "source": [
    "model.fit(x_train, y_train, epochs=200, batch_size=32)"
   ]
  },
  {
   "cell_type": "code",
   "execution_count": 37,
   "id": "2b53cde3",
   "metadata": {},
   "outputs": [
    {
     "name": "stderr",
     "output_type": "stream",
     "text": [
      "2022-01-12 19:47:43.234236: I tensorflow/core/grappler/optimizers/custom_graph_optimizer_registry.cc:112] Plugin optimizer for device_type GPU is enabled.\n"
     ]
    }
   ],
   "source": [
    "y_hat = model.predict(x_test)\n",
    "y_hat = [0 if val <0.5 else 1 for val in y_hat] # basically converts to boolean"
   ]
  },
  {
   "cell_type": "code",
   "execution_count": 38,
   "id": "04500a88",
   "metadata": {},
   "outputs": [
    {
     "data": {
      "text/plain": [
       "2083    0\n",
       "839     0\n",
       "4290    0\n",
       "4523    0\n",
       "1046    0\n",
       "       ..\n",
       "3167    0\n",
       "1932    0\n",
       "3949    0\n",
       "2286    1\n",
       "1000    0\n",
       "Name: Churn, Length: 1409, dtype: int64"
      ]
     },
     "execution_count": 38,
     "metadata": {},
     "output_type": "execute_result"
    }
   ],
   "source": [
    "y_test"
   ]
  },
  {
   "cell_type": "code",
   "execution_count": 39,
   "id": "b76cc5b9",
   "metadata": {},
   "outputs": [
    {
     "data": {
      "text/plain": [
       "0.7693399574166075"
      ]
     },
     "execution_count": 39,
     "metadata": {},
     "output_type": "execute_result"
    }
   ],
   "source": [
    "accuracy_score(y_test, y_hat)"
   ]
  },
  {
   "cell_type": "markdown",
   "id": "8f6db452",
   "metadata": {},
   "source": [
    "# Saving Model"
   ]
  },
  {
   "cell_type": "code",
   "execution_count": 14,
   "id": "0ca759fe",
   "metadata": {},
   "outputs": [
    {
     "name": "stderr",
     "output_type": "stream",
     "text": [
      "2022-01-12 19:37:16.890478: W tensorflow/python/util/util.cc:368] Sets are not currently considered sequences, but this may change in the future, so consider avoiding using them.\n"
     ]
    },
    {
     "name": "stdout",
     "output_type": "stream",
     "text": [
      "INFO:tensorflow:Assets written to: tfmodel/assets\n"
     ]
    }
   ],
   "source": [
    "model.save('tfmodel')"
   ]
  },
  {
   "cell_type": "code",
   "execution_count": 15,
   "id": "2569080f",
   "metadata": {},
   "outputs": [],
   "source": [
    "del model # to delete."
   ]
  },
  {
   "cell_type": "code",
   "execution_count": 16,
   "id": "d0719b3f",
   "metadata": {},
   "outputs": [],
   "source": [
    "model = load_model('tfmodel')"
   ]
  },
  {
   "cell_type": "code",
   "execution_count": null,
   "id": "6eb1ef13",
   "metadata": {},
   "outputs": [],
   "source": []
  }
 ],
 "metadata": {
  "kernelspec": {
   "display_name": "Python 3",
   "language": "python",
   "name": "python3"
  },
  "language_info": {
   "codemirror_mode": {
    "name": "ipython",
    "version": 3
   },
   "file_extension": ".py",
   "mimetype": "text/x-python",
   "name": "python",
   "nbconvert_exporter": "python",
   "pygments_lexer": "ipython3",
   "version": "3.10.0"
  },
  "vscode": {
   "interpreter": {
    "hash": "1a912d068469416c5e278b24b0e54bdfae4ddba72eee4860e58baf1cadf17f3c"
   }
  }
 },
 "nbformat": 4,
 "nbformat_minor": 5
}
